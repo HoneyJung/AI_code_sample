{
 "cells": [
  {
   "cell_type": "code",
   "execution_count": 32,
   "metadata": {},
   "outputs": [],
   "source": [
    "# Lab 10 MNIST and softmax\n",
    "import torch\n",
    "import torch.nn.functional as F\n",
    "import torch.nn as nn\n",
    "import torchvision.datasets as dsets\n",
    "import torchvision.transforms as transforms\n",
    "import matplotlib.pylab as plt"
   ]
  },
  {
   "cell_type": "code",
   "execution_count": 33,
   "metadata": {},
   "outputs": [],
   "source": [
    "device = 'cuda' if torch.cuda.is_available() else 'cpu'\n",
    "\n",
    "# for reproducibility\n",
    "torch.manual_seed(1)\n",
    "if device == 'cuda':\n",
    "    torch.cuda.manual_seed_all(1)\n",
    "    \n",
    "# parameters\n",
    "learning_rate = 0.001\n",
    "training_epochs = 30\n",
    "batch_size = 32"
   ]
  },
  {
   "cell_type": "code",
   "execution_count": 34,
   "metadata": {},
   "outputs": [],
   "source": [
    "# MNIST dataset\n",
    "mnist_train = dsets.MNIST(root='../',\n",
    "                          train=True,\n",
    "                          transform=transforms.ToTensor(),\n",
    "                          download=True)\n",
    "\n",
    "mnist_test = dsets.MNIST(root='../',\n",
    "                         train=False,\n",
    "                         transform=transforms.ToTensor(),\n",
    "                         download=True)"
   ]
  },
  {
   "cell_type": "code",
   "execution_count": 35,
   "metadata": {},
   "outputs": [],
   "source": [
    " # dataset loader\n",
    "train_loader = torch.utils.data.DataLoader(dataset=mnist_train,\n",
    "                                          batch_size=batch_size,\n",
    "                                          shuffle=True,\n",
    "                                          drop_last=True)\n",
    "\n",
    "test_loader = torch.utils.data.DataLoader(dataset=mnist_test,\n",
    "                                          batch_size=batch_size,\n",
    "                                          shuffle=False,\n",
    "                                          drop_last=True)"
   ]
  },
  {
   "cell_type": "code",
   "execution_count": 36,
   "metadata": {},
   "outputs": [
    {
     "name": "stdout",
     "output_type": "stream",
     "text": [
      "init model done\n"
     ]
    }
   ],
   "source": [
    "class Net(nn.Module):\n",
    "    def __init__(self):\n",
    "        super(Net, self).__init__()\n",
    "        self.fc1 = nn.Linear(784, 32, bias =True)\n",
    "        self.fc2 = nn.Linear(32, 32, bias =True)\n",
    "        self.fc3 = nn.Linear(32, 10, bias =True)\n",
    "        self.bn1 = torch.nn.BatchNorm1d(32)\n",
    "        self.bn2 = torch.nn.BatchNorm1d(32)\n",
    "\n",
    "    def forward(self, x):\n",
    "        x = F.relu(self.bn1(self.fc1(x)))\n",
    "        x = F.relu(self.bn1(self.fc2(x)))\n",
    "        x = self.fc3(x)\n",
    "        return x\n",
    "\n",
    "print(\"init model done\")"
   ]
  },
  {
   "cell_type": "code",
   "execution_count": 37,
   "metadata": {},
   "outputs": [],
   "source": [
    "# define cost/loss & optimizer\n",
    "model = Net().to(device)\n",
    "criterion = torch.nn.CrossEntropyLoss().to(device)    # Softmax is internally computed.\n",
    "optimizer = torch.optim.Adam(model.parameters(), lr=learning_rate)"
   ]
  },
  {
   "cell_type": "code",
   "execution_count": 38,
   "metadata": {},
   "outputs": [],
   "source": [
    "#Define Train function and Test function to validate.\n",
    "\n",
    "def train(model, device, train_loader, optimizer, epoch):\n",
    "    model.train()\n",
    "    for batch_idx, (data, target) in enumerate(train_loader):\n",
    "        data, target = data.view(-1,28 * 28).to(device), target.to(device)\n",
    "        optimizer.zero_grad()\n",
    "        output = model(data)\n",
    "        loss = (criterion(output,target))\n",
    "        loss.backward()\n",
    "        optimizer.step()\n",
    "        #print(output.shape,target.shape)\n",
    "    print(\"epoch : \", epoch)\n",
    "    print(\"training loss : \",loss.item())\n",
    "        \n",
    "    return data,target,output\n",
    "\n",
    "def test(model, device, test_loader):\n",
    "    model.eval()\n",
    "    test_loss = 0\n",
    "    correct = 0\n",
    "    with torch.no_grad():\n",
    "        for batch_idx, (data, target) in enumerate(test_loader):\n",
    "            data, target = data.view(-1,28 * 28).to(device), target.to(device)\n",
    "            output = model(data)            \n",
    "            test_loss += (criterion(output, target)).item()\n",
    "    test_loss /= len(test_loader.dataset)/(batch_size)\n",
    "    print(\"test loss : \",test_loss)\n",
    "    return (data, target ,output)     "
   ]
  },
  {
   "cell_type": "code",
   "execution_count": 39,
   "metadata": {},
   "outputs": [
    {
     "name": "stdout",
     "output_type": "stream",
     "text": [
      "training\n",
      "epoch :  1\n",
      "training loss :  0.17026999592781067\n",
      "epoch :  2\n",
      "training loss :  0.24473047256469727\n",
      "epoch :  3\n",
      "training loss :  0.08939463645219803\n",
      "epoch :  4\n",
      "training loss :  0.054386284202337265\n",
      "epoch :  5\n",
      "training loss :  0.021587811410427094\n",
      "epoch :  6\n",
      "training loss :  0.08545223623514175\n",
      "epoch :  7\n",
      "training loss :  0.13118451833724976\n",
      "epoch :  8\n",
      "training loss :  0.06886123865842819\n",
      "epoch :  9\n",
      "training loss :  0.40753641724586487\n",
      "epoch :  10\n",
      "training loss :  0.019150231033563614\n",
      "epoch :  11\n",
      "training loss :  0.02330213040113449\n",
      "epoch :  12\n",
      "training loss :  0.015390312299132347\n",
      "epoch :  13\n",
      "training loss :  0.04625816270709038\n",
      "epoch :  14\n",
      "training loss :  0.03315769135951996\n",
      "epoch :  15\n",
      "training loss :  0.14674510061740875\n",
      "epoch :  16\n",
      "training loss :  0.13162195682525635\n",
      "epoch :  17\n",
      "training loss :  0.03895364701747894\n",
      "epoch :  18\n",
      "training loss :  0.10912031680345535\n",
      "epoch :  19\n",
      "training loss :  0.027040548622608185\n",
      "epoch :  20\n",
      "training loss :  0.03554612398147583\n",
      "epoch :  21\n",
      "training loss :  0.05829791724681854\n",
      "epoch :  22\n",
      "training loss :  0.022440101951360703\n",
      "epoch :  23\n",
      "training loss :  0.18405967950820923\n",
      "epoch :  24\n",
      "training loss :  0.08807788789272308\n",
      "epoch :  25\n",
      "training loss :  0.05375175178050995\n",
      "epoch :  26\n",
      "training loss :  0.02865682914853096\n",
      "epoch :  27\n",
      "training loss :  0.0025896148290485144\n",
      "epoch :  28\n",
      "training loss :  0.006902450695633888\n",
      "epoch :  29\n",
      "training loss :  0.06333306431770325\n",
      "epoch :  30\n",
      "training loss :  0.00456779170781374\n",
      "test loss :  0.32982980836629866\n"
     ]
    }
   ],
   "source": [
    "# Train and Test the model and save it.\n",
    "print(\"training\")\n",
    "for epoch in range(1, training_epochs+1):\n",
    "    train(model, device, train_loader, optimizer, epoch)\n",
    "DATA, TARGET, OUTPUT = test(model, device, test_loader)\n"
   ]
  },
  {
   "cell_type": "code",
   "execution_count": 51,
   "metadata": {},
   "outputs": [
    {
     "name": "stdout",
     "output_type": "stream",
     "text": [
      "(tensor(0), 0)\n",
      "(tensor(6), 6)\n",
      "(tensor(2), 2)\n",
      "(tensor(1), 1)\n",
      "(tensor(1), 1)\n",
      "(tensor(7), 7)\n",
      "(tensor(7), 7)\n",
      "(tensor(8), 8)\n",
      "(tensor(4), 4)\n",
      "(tensor(6), 6)\n",
      "(tensor(0), 0)\n",
      "(tensor(7), 7)\n",
      "(tensor(0), 0)\n",
      "(tensor(3), 3)\n",
      "(tensor(6), 6)\n",
      "(tensor(8), 8)\n",
      "(tensor(7), 7)\n",
      "(tensor(1), 1)\n",
      "(tensor(5), 3)\n",
      "(tensor(2), 2)\n",
      "(tensor(4), 4)\n",
      "(tensor(9), 9)\n",
      "(tensor(4), 4)\n",
      "(tensor(3), 3)\n",
      "(tensor(6), 6)\n",
      "(tensor(4), 4)\n",
      "(tensor(1), 1)\n",
      "(tensor(7), 7)\n",
      "(tensor(2), 2)\n",
      "(tensor(6), 6)\n",
      "(tensor(5), 3)\n",
      "(tensor(0), 0)\n"
     ]
    }
   ],
   "source": [
    "PREDICT = []\n",
    "for t in OUTPUT:\n",
    "    PREDICT.append(list(t).index(max(t)))\n",
    "for tup in list(zip(TARGET,PREDICT)):\n",
    "    print(tup)"
   ]
  },
  {
   "cell_type": "code",
   "execution_count": null,
   "metadata": {},
   "outputs": [],
   "source": []
  }
 ],
 "metadata": {
  "kernelspec": {
   "display_name": "Python 3",
   "language": "python",
   "name": "python3"
  },
  "language_info": {
   "codemirror_mode": {
    "name": "ipython",
    "version": 3
   },
   "file_extension": ".py",
   "mimetype": "text/x-python",
   "name": "python",
   "nbconvert_exporter": "python",
   "pygments_lexer": "ipython3",
   "version": "3.8.5"
  }
 },
 "nbformat": 4,
 "nbformat_minor": 4
}
